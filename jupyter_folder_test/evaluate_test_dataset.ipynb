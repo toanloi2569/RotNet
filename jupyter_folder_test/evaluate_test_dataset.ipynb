{
 "cells": [
  {
   "cell_type": "code",
   "execution_count": null,
   "metadata": {},
   "outputs": [],
   "source": [
    "import os\n",
    "import shutil\n",
    "import cv2\n",
    "import numpy as np\n",
    "import matplotlib.pyplot as plt\n",
    "\n",
    "from keras.callbacks import ModelCheckpoint, EarlyStopping, TensorBoard, ReduceLROnPlateau\n",
    "from keras.applications.resnet50 import ResNet50\n",
    "from keras.applications.imagenet_utils import preprocess_input\n",
    "from keras.models import Model\n",
    "from keras.layers import Dense, Flatten\n",
    "from keras.optimizers import SGD, Adam\n",
    "from keras.models import load_model, model_from_json"
   ]
  },
  {
   "cell_type": "code",
   "execution_count": null,
   "metadata": {},
   "outputs": [],
   "source": [
    "! rm image_orientation -r\n",
    "! git clone https://github.com/Ducvoccer/image_orientation.git\n",
    "\n",
    "import image_orientation.utils\n",
    "from image_orientation.utils import RotNetDataGenerator\n",
    "from image_orientation.checkpointers import ModelCheckpoint\n",
    "\n",
    "from importlib import reload\n",
    "reload(image_orientation.utils)\n",
    "reload(image_orientation.checkpointers)\n",
    "from image_orientation.utils import RotNetDataGenerator\n",
    "from image_orientation.utils import angle_error\n",
    "from image_orientation.utils import angle_difference\n",
    "from image_orientation.utils import generate_rotated_image\n",
    "from image_orientation.checkpointers import ModelCheckpoint\n"
   ]
  },
  {
   "cell_type": "code",
   "execution_count": null,
   "metadata": {},
   "outputs": [],
   "source": [
    "! mkdir models"
   ]
  },
  {
   "cell_type": "code",
   "execution_count": null,
   "metadata": {},
   "outputs": [],
   "source": [
    "import zipfile\n",
    "z = zipfile.ZipFile('/content/drive/My Drive/share_cv/Machine_learning/test_dataset/test_dataset.zip')\n",
    "z.extractall('./')"
   ]
  },
  {
   "cell_type": "code",
   "execution_count": null,
   "metadata": {},
   "outputs": [],
   "source": [
    "! cp /content/drive/My\\ Drive/share_cv/Machine_learning/rotnet_COCO_resnet50.hdf5 ./models\n",
    "! cp /content/drive/My\\ Drive/share_cv/Machine_learning/train_1_backup/weight_ver3_phase1_16_0.06.hdf5 ./models/weight_ver3_phase1_16_0.06.hdf5\n",
    "! cp /content/drive/My\\ Drive/share_cv/Machine_learning/train_2_backup/weight_ver3_phase2_18_2.09_3.29.hdf5 ./models/weight_ver3_phase2_18_2.09_3.29.hdf5\n"
   ]
  },
  {
   "cell_type": "code",
   "execution_count": null,
   "metadata": {},
   "outputs": [],
   "source": [
    "! cp /content/drive/My\\ Drive/share_cv/Machine_learning/architecture_ver3/ ./models -r"
   ]
  },
  {
   "cell_type": "code",
   "execution_count": null,
   "metadata": {},
   "outputs": [],
   "source": [
    "model_ver_1 = load_model('models/rotnet_COCO_resnet50.hdf5', custom_objects={'angle_error': angle_error})\n",
    "# model_ver_2 = load_model()\n",
    "\n",
    "with open('models/architecture_ver3/model_ver_3_phase_1.def') as f:\n",
    "    model_ver_3_phase_1 = model_from_json(f.read())\n",
    "\n",
    "with open('models/architecture_ver3/model_ver_3_phase_2.def') as f:\n",
    "    model_ver_3_phase_2 = model_from_json(f.read())\n",
    "\n",
    "model_ver_3_phase_1.load_weights('models/weight_ver3_phase1_16_0.06.hdf5')\n",
    "model_ver_3_phase_2.load_weights('models/weight_ver3_phase2_18_2.09_3.29.hdf5')"
   ]
  },
  {
   "cell_type": "code",
   "execution_count": null,
   "metadata": {},
   "outputs": [],
   "source": [
    "easy_image_paths  = ['test_dataset/easy/' + i for i in list(os.listdir(os.path.join('test_dataset', 'easy')))]\n",
    "hard_image_paths  = ['test_dataset/hard/' + i for i in list(os.listdir(os.path.join('test_dataset', 'hard')))]"
   ]
  },
  {
   "cell_type": "markdown",
   "metadata": {},
   "source": [
    "# Evaluate for model version 1"
   ]
  },
  {
   "cell_type": "code",
   "execution_count": null,
   "metadata": {},
   "outputs": [],
   "source": [
    "test_data_easy=RotNetDataGenerator(\n",
    "        easy_image_paths,\n",
    "        input_shape=(224, 224, 3),\n",
    "        batch_size=64,\n",
    "        preprocess_func=preprocess_input,\n",
    "        crop_center=True,\n",
    "        crop_largest_rect=True,\n",
    "        task_pharse = 3\n",
    ")\n",
    "\n",
    "scores_easy = model_ver_1.evaluate_generator(test_data,len(test_data))\n",
    "\n",
    "test_data_hard=RotNetDataGenerator(\n",
    "        hard_image_paths,\n",
    "        input_shape=(224, 224, 3),\n",
    "        batch_size=64,\n",
    "        preprocess_func=preprocess_input,\n",
    "        crop_center=True,\n",
    "        crop_largest_rect=True,\n",
    "        task_pharse = 3\n",
    ")\n",
    "\n",
    "scores_hard = model_ver_1.evaluate_generator(test_data,len(test_data))\n",
    "\n",
    "print('Angle error: ', scores_easy[1])\n",
    "print('Angle error: ', scores_hard[1])"
   ]
  },
  {
   "cell_type": "code",
   "execution_count": null,
   "metadata": {},
   "outputs": [],
   "source": []
  },
  {
   "cell_type": "code",
   "execution_count": null,
   "metadata": {},
   "outputs": [],
   "source": []
  },
  {
   "cell_type": "code",
   "execution_count": null,
   "metadata": {},
   "outputs": [],
   "source": []
  },
  {
   "cell_type": "code",
   "execution_count": null,
   "metadata": {},
   "outputs": [],
   "source": []
  }
 ],
 "metadata": {
  "kernelspec": {
   "display_name": "Python 3",
   "language": "python",
   "name": "python3"
  },
  "language_info": {
   "codemirror_mode": {
    "name": "ipython",
    "version": 3
   },
   "file_extension": ".py",
   "mimetype": "text/x-python",
   "name": "python",
   "nbconvert_exporter": "python",
   "pygments_lexer": "ipython3",
   "version": "3.7.6"
  }
 },
 "nbformat": 4,
 "nbformat_minor": 4
}
